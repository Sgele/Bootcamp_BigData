{
 "cells": [
  {
   "cell_type": "code",
   "execution_count": 2,
   "id": "b596176f-1805-4b9e-9ff7-1176a08da2d2",
   "metadata": {},
   "outputs": [],
   "source": [
    "# Insert sample document into 'sources' collection\n",
    "s1 = {\n",
    "    'source': 'Snowflake',\n",
    "    'description': 'Primary data source for COVID-19 data',\n",
    "    'url': 'https://app.snowflake.com/omsgxiz/pz98304/#/data/shared/SNOWFLAKE_DATA_MARKETPLACE/listing/GZSNZ7F5UH?originTab=databases&database=COVID19_EPIDEMIOLOGICAL_DATA'\n",
    "}\n",
    "\n",
    "s2 = {\n",
    "    'source': 'Kaggle',\n",
    "    'description': 'COVID-19 Symptoms Checker',\n",
    "    'url': 'https://www.kaggle.com/code/mithilesh16/covid-19-symptom-analysis/input?select=Cleaned-Data.csv'\n",
    "}\n",
    "\n",
    "sources = [s1, s2]"
   ]
  }
 ],
 "metadata": {
  "kernelspec": {
   "display_name": "Python 3 (ipykernel)",
   "language": "python",
   "name": "python3"
  },
  "language_info": {
   "codemirror_mode": {
    "name": "ipython",
    "version": 3
   },
   "file_extension": ".py",
   "mimetype": "text/x-python",
   "name": "python",
   "nbconvert_exporter": "python",
   "pygments_lexer": "ipython3",
   "version": "3.8.10"
  }
 },
 "nbformat": 4,
 "nbformat_minor": 5
}

{
 "cells": [
  {
   "cell_type": "code",
   "execution_count": 6,
   "id": "369f7433-7ed8-4f01-82a7-0dd880d7df9c",
   "metadata": {},
   "outputs": [],
   "source": [
    "from pymongo import MongoClient\n",
    "%run Workflow.ipynb  \n",
    "%run Source.ipynb\n",
    "\n",
    "client = MongoClient(\"mongodb://localhost:27017\")"
   ]
  },
  {
   "cell_type": "code",
   "execution_count": 7,
   "id": "81621025-4e02-4ee1-acc8-90cd62caf710",
   "metadata": {},
   "outputs": [
    {
     "name": "stdout",
     "output_type": "stream",
     "text": [
      "Displaying inserted collections:\n",
      "['source', 'workflow']\n",
      "\n",
      "\n",
      "Collection: source\n",
      "{'_id': ObjectId('65b1a972e81d5519dafa7757'), 'source': 'Snowflake', 'description': 'Primary data source for COVID-19 data', 'url': 'https://app.snowflake.com/omsgxiz/pz98304/#/data/shared/SNOWFLAKE_DATA_MARKETPLACE/listing/GZSNZ7F5UH?originTab=databases&database=COVID19_EPIDEMIOLOGICAL_DATA'}\n",
      "{'_id': ObjectId('65b1a972e81d5519dafa7758'), 'source': 'Kaggle', 'description': 'COVID-19 Symptoms Checker', 'url': 'https://www.kaggle.com/code/mithilesh16/covid-19-symptom-analysis/input?select=Cleaned-Data.csv'}\n",
      "\n",
      "Collection: workflow\n",
      "{'_id': ObjectId('65b1a972e81d5519dafa774f'), 'step': 1, 'action': 'Load data from Snowflake', 'comments': 'completed'}\n",
      "{'_id': ObjectId('65b1a972e81d5519dafa7750'), 'step': 2, 'action': 'Setup Snowflake Resource monitors', 'comments': 'made autosuspend after 1 hour (3600 sec.),  resource monitors with CREDIT_QUOTA = 300,\\n    on 80% - suspend,on 75% - suspend_immediate, on 60% - notify, on 50% - notify'}\n",
      "{'_id': ObjectId('65b1a972e81d5519dafa7751'), 'step': 3, 'action': 'Load more data', 'comments': 'completed'}\n",
      "{'_id': ObjectId('65b1a972e81d5519dafa7752'), 'step': 4, 'action': 'Upload data to S3 bucket', 'comments': 'created S3 bucket named \"sgele\", uploaded 3 csv files'}\n",
      "{'_id': ObjectId('65b1a972e81d5519dafa7753'), 'step': 5, 'action': 'Connected S3 bucket to Snowflake', 'comments': 'created a IAM role also changed policies and the excetu code in SQL worksheet and got my new table to my snowflake acc'}\n",
      "{'_id': ObjectId('65b1a972e81d5519dafa7754'), 'step': 6, 'action': 'Build a Custom API in Python and Flask', 'comments': 'completed'}\n",
      "{'_id': ObjectId('65b1a972e81d5519dafa7755'), 'step': 7, 'action': 'Visualizing data', 'comments': 'completed'}\n",
      "{'_id': ObjectId('65b1a972e81d5519dafa7756'), 'step': 8, 'action': 'Using machine learning for predicting values', 'comments': 'completed'}\n"
     ]
    }
   ],
   "source": [
    "# Naming database - supplementary data\n",
    "db = client.supplementary_data\n",
    "\n",
    "# Creating collections\n",
    "workflow = db.workflow\n",
    "source = db.source\n",
    "\n",
    "def dropCollections():\n",
    "    for collection in db.list_collection_names():\n",
    "        db[collection].drop()\n",
    "\n",
    "def insertDataToMongo():\n",
    "    workflow.insert_many(workflows)\n",
    "    source.insert_many(sources)\n",
    "\n",
    "def displayAllCollections():\n",
    "    print(\"Displaying inserted collections:\")\n",
    "    print(db.list_collection_names())\n",
    "    print(\"\")\n",
    "\n",
    "def displayEverythingAboutCollections():   \n",
    "# Iterate through all collections\n",
    "    for collection_name in db.list_collection_names():\n",
    "        current_collection = db[collection_name]\n",
    "        \n",
    "        # Display the collection name\n",
    "        print(f\"\\nCollection: {collection_name}\")\n",
    "        \n",
    "        # Display all documents in the collection\n",
    "        for doc in current_collection.find():\n",
    "            print(doc)\n",
    "\n",
    "def main():\n",
    "    dropCollections()\n",
    "    insertDataToMongo()\n",
    "    displayAllCollections()\n",
    "    displayEverythingAboutCollections()\n",
    "    \n",
    "if __name__ == \"__main__\":\n",
    "    main()\n"
   ]
  }
 ],
 "metadata": {
  "kernelspec": {
   "display_name": "Python 3 (ipykernel)",
   "language": "python",
   "name": "python3"
  },
  "language_info": {
   "codemirror_mode": {
    "name": "ipython",
    "version": 3
   },
   "file_extension": ".py",
   "mimetype": "text/x-python",
   "name": "python",
   "nbconvert_exporter": "python",
   "pygments_lexer": "ipython3",
   "version": "3.8.10"
  }
 },
 "nbformat": 4,
 "nbformat_minor": 5
}

{
 "cells": [
  {
   "cell_type": "code",
   "execution_count": 5,
   "id": "553675ba-fefa-42ae-9909-01d071ecd073",
   "metadata": {},
   "outputs": [],
   "source": [
    "w1 = {\n",
    "    'step': 1,\n",
    "    'action': 'Load data from Snowflake',\n",
    "    'comments': 'completed'\n",
    "}\n",
    "w2 = {\n",
    "    'step': 2,\n",
    "    'action': 'Setup Snowflake Resource monitors',\n",
    "    'comments': '''made autosuspend after 1 hour (3600 sec.),  resource monitors with CREDIT_QUOTA = 300,\n",
    "    on 80% - suspend,on 75% - suspend_immediate, on 60% - notify, on 50% - notify'''\n",
    "}\n",
    "w3 = {\n",
    "    'step': 3,\n",
    "    'action': 'Load more data',\n",
    "    'comments': 'completed'\n",
    "}\n",
    "w4 = {\n",
    "    'step': 4,\n",
    "    'action': 'Upload data to S3 bucket',\n",
    "    'comments': 'created S3 bucket named \"sgele\", uploaded 3 csv files'\n",
    "}\n",
    "w5 = {\n",
    "    'step': 5,\n",
    "    'action': 'Connected S3 bucket to Snowflake',\n",
    "    'comments': 'created a IAM role also changed policies and the excetu code in SQL worksheet and got my new table to my snowflake acc'\n",
    "}\n",
    "w6 = {\n",
    "    'step': 6,\n",
    "    'action': 'Build a Custom API in Python and Flask',\n",
    "    'comments': 'completed'\n",
    "}\n",
    "w7 = {\n",
    "    'step': 7,\n",
    "    'action': 'Visualizing data',\n",
    "    'comments': 'completed'\n",
    "}\n",
    "w8 = {\n",
    "    'step': 8,\n",
    "    'action': 'Using machine learning for predicting values',\n",
    "    'comments': 'completed'\n",
    "}\n",
    "\n",
    "workflows = [w1, w2, w3, w4, w5, w6, w7, w8]"
   ]
  }
 ],
 "metadata": {
  "kernelspec": {
   "display_name": "Python 3 (ipykernel)",
   "language": "python",
   "name": "python3"
  },
  "language_info": {
   "codemirror_mode": {
    "name": "ipython",
    "version": 3
   },
   "file_extension": ".py",
   "mimetype": "text/x-python",
   "name": "python",
   "nbconvert_exporter": "python",
   "pygments_lexer": "ipython3",
   "version": "3.8.10"
  }
 },
 "nbformat": 4,
 "nbformat_minor": 5
}
